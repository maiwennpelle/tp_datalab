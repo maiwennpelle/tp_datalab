{
 "cells": [
  {
   "cell_type": "code",
   "execution_count": 3,
   "id": "11191f1b-ea4f-4b1f-8eb4-8c558071759e",
   "metadata": {},
   "outputs": [],
   "source": [
    "import os\n",
    "import polars as pl\n",
    "\n",
    "s3_endpoint = f'https://{os.environ[\"AWS_S3_ENDPOINT\"]}'\n",
    "s3_access_key = os.environ[\"AWS_ACCESS_KEY_ID\"]\n",
    "s3_secret_access_key = os.environ[\"AWS_SECRET_ACCESS_KEY\"]\n",
    "s3_session_token = os.environ[\"AWS_SESSION_TOKEN\"]\n",
    "s3_region = os.environ[\"AWS_DEFAULT_REGION\"]\n",
    "\n",
    "s3_username = os.environ[\"VAULT_TOP_DIR\"] # un peu bancal pour avoir le username"
   ]
  },
  {
   "cell_type": "code",
   "execution_count": 4,
   "id": "ba068c4b-5339-4f11-afcb-0064b81fe540",
   "metadata": {},
   "outputs": [],
   "source": [
    "s3_file_path = f\"s3://id2649-ensai/ENSAI/SQL/tp3-longueur-fil.parquet\"\n",
    "\n",
    "storage_options = {\n",
    "    \"aws_endpoint\":  s3_endpoint,\n",
    "    \"aws_access_key_id\": s3_access_key,\n",
    "    \"aws_secret_access_key\": s3_secret_access_key,\n",
    "    \"aws_token\": s3_session_token,\n",
    "    \"aws_region\": s3_region\n",
    "  }\n",
    "\n",
    "file = pl.scan_parquet(source=s3_file_path, \n",
    "                     storage_options=storage_options)"
   ]
  },
  {
   "cell_type": "code",
   "execution_count": 6,
   "id": "1f144cf0-6dc0-42ce-91fa-399e6df79407",
   "metadata": {},
   "outputs": [],
   "source": [
    "df = file.collect()"
   ]
  },
  {
   "cell_type": "code",
   "execution_count": 7,
   "id": "8ae8a8bc-9be9-4967-a107-169227a90263",
   "metadata": {},
   "outputs": [
    {
     "name": "stdout",
     "output_type": "stream",
     "text": [
      "shape: (50, 2)\n",
      "┌─────────────────┬──────────┐\n",
      "│ vetement        ┆ longueur │\n",
      "│ ---             ┆ ---      │\n",
      "│ str             ┆ i64      │\n",
      "╞═════════════════╪══════════╡\n",
      "│ slip            ┆ 120      │\n",
      "│ culotte         ┆ 150      │\n",
      "│ chemise         ┆ 200      │\n",
      "│ pantalon        ┆ 180      │\n",
      "│ jupe            ┆ 160      │\n",
      "│ …               ┆ …        │\n",
      "│ chemisette      ┆ 130      │\n",
      "│ cape            ┆ 115      │\n",
      "│ body            ┆ 145      │\n",
      "│ veston          ┆ 200      │\n",
      "│ robe de chambre ┆ 225      │\n",
      "└─────────────────┴──────────┘\n"
     ]
    }
   ],
   "source": [
    "print(df)"
   ]
  },
  {
   "cell_type": "code",
   "execution_count": 9,
   "id": "91193c05-a7ef-4808-9976-03ceace301a5",
   "metadata": {},
   "outputs": [
    {
     "data": {
      "text/html": [
       "<div><style>\n",
       ".dataframe > thead > tr,\n",
       ".dataframe > tbody > tr {\n",
       "  text-align: right;\n",
       "  white-space: pre-wrap;\n",
       "}\n",
       "</style>\n",
       "<small>shape: (1, 2)</small><table border=\"1\" class=\"dataframe\"><thead><tr><th>vetement</th><th>longueur</th></tr><tr><td>str</td><td>i64</td></tr></thead><tbody><tr><td>&quot;gilet&quot;</td><td>170</td></tr></tbody></table></div>"
      ],
      "text/plain": [
       "shape: (1, 2)\n",
       "┌──────────┬──────────┐\n",
       "│ vetement ┆ longueur │\n",
       "│ ---      ┆ ---      │\n",
       "│ str      ┆ i64      │\n",
       "╞══════════╪══════════╡\n",
       "│ gilet    ┆ 170      │\n",
       "└──────────┴──────────┘"
      ]
     },
     "execution_count": 9,
     "metadata": {},
     "output_type": "execute_result"
    }
   ],
   "source": [
    "df.filter(pl.col(\"vetement\") == \"gilet\")"
   ]
  },
  {
   "cell_type": "code",
   "execution_count": null,
   "id": "7cb2b6e4-1eaf-4e4b-b0cc-462e0203c13b",
   "metadata": {},
   "outputs": [],
   "source": []
  }
 ],
 "metadata": {
  "kernelspec": {
   "display_name": "Python 3 (ipykernel)",
   "language": "python",
   "name": "python3"
  },
  "language_info": {
   "codemirror_mode": {
    "name": "ipython",
    "version": 3
   },
   "file_extension": ".py",
   "mimetype": "text/x-python",
   "name": "python",
   "nbconvert_exporter": "python",
   "pygments_lexer": "ipython3",
   "version": "3.12.6"
  }
 },
 "nbformat": 4,
 "nbformat_minor": 5
}
